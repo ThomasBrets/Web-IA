{
 "cells": [
  {
   "cell_type": "code",
   "execution_count": 7,
   "id": "70b696f5-d6b7-465d-86ef-c8440e2fa2e9",
   "metadata": {},
   "outputs": [],
   "source": [
    "import openai"
   ]
  },
  {
   "cell_type": "code",
   "execution_count": 8,
   "id": "912d1ddb-c279-4fb9-a1c6-36bb8ccc1efd",
   "metadata": {},
   "outputs": [],
   "source": [
    "openai.api_key = \"\""
   ]
  },
  {
   "cell_type": "code",
   "execution_count": 10,
   "id": "c78d15d8-cdae-481d-9ade-094afaae489f",
   "metadata": {},
   "outputs": [
    {
     "name": "stdout",
     "output_type": "stream",
     "text": [
      "Bienvenido a Web-IA: Asistente para la creación de páginas web.\n",
      "\n"
     ]
    },
    {
     "name": "stdin",
     "output_type": "stream",
     "text": [
      "¿Qué colores te gustaría que tenga la página web? (Ejemplo: azul, blanco, negro):  azul y amarillo\n",
      "¿Qué secciones deseas incluir? (Ejemplo: Inicio, Servicios, Contacto):  inicio y contacto\n",
      "¿Prefieres un diseño moderno, clásico, minimalista, u otro estilo?  minimalista\n"
     ]
    }
   ],
   "source": [
    "context = \"\"\"\n",
    "Eres un asistente especializado en diseñar prompts para herramientas de creación de páginas web como Framer.\n",
    "Tu tarea es tomar información clave sobre una página web y generar un prompt claro y efectivo.\n",
    "El prompt no debe exceder los 600 caracteres y debe incluir detalles sobre distintas características como por ejemplo: colores, secciones, estilo, etc.\n",
    "\"\"\"\n",
    "\n",
    "\n",
    "# Recolectar información del usuario\n",
    "print(\"Bienvenido a Web-IA: Asistente para la creación de páginas web.\\n\")\n",
    "colores = input(\"¿Qué colores te gustaría que tenga la página web? (Ejemplo: azul, blanco, negro): \")\n",
    "secciones = input(\"¿Qué secciones deseas incluir? (Ejemplo: Inicio, Servicios, Contacto): \")\n",
    "estilo = input(\"¿Prefieres un diseño moderno, clásico, minimalista, u otro estilo? \")\n",
    "\n",
    "# Crear el prompt inicial (One-shot prompting con ejemplo)\n",
    "ejemplo_prompt = \"\"\"\n",
    "Ejemplo de prompt generado:\n",
    "Crea una página web con colores predominantes azul y blanco. Incluirá las siguientes secciones: Inicio, Servicios, Contacto. \n",
    "El diseño debe ser moderno y fácil de navegar, enfocado en usuarios jóvenes.\n",
    "\"\"\"\n",
    "\n",
    "prompt_usuario = f\"\"\"\n",
    "Colores: {colores}.\n",
    "Secciones: {secciones}.\n",
    "Estilo: {estilo}.\n",
    "\"\"\"\n",
    "\n"
   ]
  },
  {
   "cell_type": "code",
   "execution_count": 11,
   "id": "c660941e-5afe-4a2b-9f2a-76a4df09ec72",
   "metadata": {},
   "outputs": [
    {
     "name": "stdout",
     "output_type": "stream",
     "text": [
      "assistant: Diseña una página web con una paleta de colores centrada en azul y amarillo. La web tendrá dos secciones principales: Inicio y Contacto. El estilo debe ser minimalista, con un enfoque en la simplicidad y la claridad de la información. Asegúrate de utilizar espacios en blanco y tipografías legibles para una experiencia de usuario óptima. ¡Manos a la obra!\n"
     ]
    }
   ],
   "source": [
    "conversation = [\n",
    "    {\"role\": \"system\", \"content\": context},\n",
    "    {\"role\": \"assistant\", \"content\": ejemplo_prompt},\n",
    "    {\"role\": \"user\", \"content\": prompt_usuario}\n",
    "]\n",
    "\n",
    "\n",
    "response = openai.ChatCompletion.create(\n",
    "    model=\"gpt-3.5-turbo\",\n",
    "    messages=conversation,\n",
    "    max_tokens=600\n",
    ")\n",
    "\n",
    "message = response.choices[0]['message']\n",
    "print(\"{}: {}\".format(message['role'], message['content']))"
   ]
  },
  {
   "cell_type": "code",
   "execution_count": 12,
   "id": "0131c633-58cd-4614-99b2-97345f238e07",
   "metadata": {},
   "outputs": [
    {
     "name": "stdout",
     "output_type": "stream",
     "text": [
      "\n",
      "Prompt generado:\n",
      "Diseña una página web con una paleta de colores centrada en azul y amarillo. La web tendrá dos secciones principales: Inicio y Contacto. El estilo debe ser minimalista, con un enfoque en la simplicidad y la claridad de la información. Asegúrate de utilizar espacios en blanco y tipografías legibles para una experiencia de usuario óptima. ¡Manos a la obra!\n"
     ]
    }
   ],
   "source": [
    "# 8. Almacenar el resultado en una variable\n",
    "prompt_generado = response['choices'][0]['message']['content'].strip()\n",
    "\n",
    "# Mostrar el resultado\n",
    "print(\"\\nPrompt generado:\")\n",
    "print(prompt_generado)"
   ]
  },
  {
   "cell_type": "markdown",
   "id": "20a2f487-ab71-4c4b-bb7a-856dcc33197e",
   "metadata": {},
   "source": [
    "# Copiar y pegar el prompt en la IA de Framer\n",
    "[Framer - Página oficial](https://www.framer.com/?via=sale&gad_source=1&gclid=CjwKCAiA9bq6BhAKEiwAH6bqoHFYjomSGVYZ1G-f8IMZ15fq4mgm9oCt4EGggHdPD0wwj1yIlIF6dxoClNEQAvD_BwE)\n"
   ]
  }
 ],
 "metadata": {
  "kernelspec": {
   "display_name": "Python 3 (ipykernel)",
   "language": "python",
   "name": "python3"
  },
  "language_info": {
   "codemirror_mode": {
    "name": "ipython",
    "version": 3
   },
   "file_extension": ".py",
   "mimetype": "text/x-python",
   "name": "python",
   "nbconvert_exporter": "python",
   "pygments_lexer": "ipython3",
   "version": "3.10.15"
  }
 },
 "nbformat": 4,
 "nbformat_minor": 5
}
